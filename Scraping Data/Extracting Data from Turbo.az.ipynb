{
 "cells": [
  {
   "cell_type": "code",
   "execution_count": 1,
   "id": "ac0d40da",
   "metadata": {},
   "outputs": [],
   "source": [
    "import requests\n",
    "from bs4 import BeautifulSoup as bs\n",
    "import pandas as pd\n",
    "import csv\n",
    "import webbrowser\n",
    "import time\n",
    "import numpy as np"
   ]
  },
  {
   "cell_type": "markdown",
   "id": "6446de2d",
   "metadata": {},
   "source": [
    "### Gettin all required links"
   ]
  },
  {
   "cell_type": "code",
   "execution_count": 13,
   "id": "24bdb197",
   "metadata": {},
   "outputs": [],
   "source": [
    "base_url = 'https://turbo.az/'\n",
    "\n",
    "header = ['City','Brand','Model','Year','Body','Color','Engine','Engine Power',\\\n",
    "          'Fuel type','Mileage','Gearbox','Transmission','New',\"Price\"]\n",
    "\n",
    "#  Extracting all links of advertisements from website\n",
    "\n",
    "elanlar_links = []\n",
    "\n",
    "for x in range(1,418):\n",
    "    request = requests.get('https://turbo.az/autos?page={}'.format(x))\n",
    "    soup = bs(request.content,'html.parser')\n",
    "    \n",
    "    products = soup.find_all('div',{'class':'products-i'})\n",
    "\n",
    "    links = []\n",
    "\n",
    "    for each in products:\n",
    "        link_each = each.find('a',{'class':'products-i__link'})\n",
    "\n",
    "        if link_each == None:\n",
    "            continue\n",
    "        else:\n",
    "            links.append(base_url + str(link_each['href']))\n",
    "\n",
    "    elanlar_links += links"
   ]
  },
  {
   "cell_type": "code",
   "execution_count": 14,
   "id": "a0ac7ab1",
   "metadata": {},
   "outputs": [],
   "source": [
    "elanlar_links = list(set(elanlar_links))"
   ]
  },
  {
   "cell_type": "code",
   "execution_count": 15,
   "id": "8472ed9f",
   "metadata": {},
   "outputs": [
    {
     "data": {
      "text/plain": [
       "10547"
      ]
     },
     "execution_count": 15,
     "metadata": {},
     "output_type": "execute_result"
    }
   ],
   "source": [
    "len(elanlar_links)"
   ]
  },
  {
   "cell_type": "markdown",
   "id": "943320fa",
   "metadata": {},
   "source": [
    "### Links - part 1"
   ]
  },
  {
   "cell_type": "code",
   "execution_count": 36,
   "id": "c22c1c31",
   "metadata": {},
   "outputs": [],
   "source": [
    "part1 = elanlar_links[0 : 2501]"
   ]
  },
  {
   "cell_type": "code",
   "execution_count": 37,
   "id": "70ee41a5",
   "metadata": {},
   "outputs": [
    {
     "data": {
      "text/plain": [
       "2501"
      ]
     },
     "execution_count": 37,
     "metadata": {},
     "output_type": "execute_result"
    }
   ],
   "source": [
    "len(part1)"
   ]
  },
  {
   "cell_type": "markdown",
   "id": "17d63e99",
   "metadata": {},
   "source": [
    "### Links - part 2"
   ]
  },
  {
   "cell_type": "code",
   "execution_count": 38,
   "id": "a279e902",
   "metadata": {},
   "outputs": [],
   "source": [
    "part2 = elanlar_links[2501:5001]"
   ]
  },
  {
   "cell_type": "code",
   "execution_count": 39,
   "id": "c0b0b950",
   "metadata": {},
   "outputs": [
    {
     "data": {
      "text/plain": [
       "2500"
      ]
     },
     "execution_count": 39,
     "metadata": {},
     "output_type": "execute_result"
    }
   ],
   "source": [
    "len(part2)"
   ]
  },
  {
   "cell_type": "markdown",
   "id": "4caa0779",
   "metadata": {},
   "source": [
    "### Links - part 3"
   ]
  },
  {
   "cell_type": "code",
   "execution_count": 40,
   "id": "4e3fcfd7",
   "metadata": {},
   "outputs": [],
   "source": [
    "part3 = elanlar_links[5001:7501]"
   ]
  },
  {
   "cell_type": "code",
   "execution_count": 41,
   "id": "4873c4d7",
   "metadata": {},
   "outputs": [
    {
     "data": {
      "text/plain": [
       "2500"
      ]
     },
     "execution_count": 41,
     "metadata": {},
     "output_type": "execute_result"
    }
   ],
   "source": [
    "len(part3)"
   ]
  },
  {
   "cell_type": "markdown",
   "id": "5161d29e",
   "metadata": {},
   "source": [
    "### Links - part 4"
   ]
  },
  {
   "cell_type": "code",
   "execution_count": 12,
   "id": "a0fd3ff6",
   "metadata": {},
   "outputs": [],
   "source": [
    "part4 = elanlar_links[7501::]"
   ]
  },
  {
   "cell_type": "code",
   "execution_count": 13,
   "id": "113e8be4",
   "metadata": {},
   "outputs": [
    {
     "data": {
      "text/plain": [
       "3046"
      ]
     },
     "execution_count": 13,
     "metadata": {},
     "output_type": "execute_result"
    }
   ],
   "source": [
    "len(part4)"
   ]
  },
  {
   "cell_type": "markdown",
   "id": "c34455a9",
   "metadata": {},
   "source": [
    "### Extracting data"
   ]
  },
  {
   "cell_type": "code",
   "execution_count": 14,
   "id": "fb86bb01",
   "metadata": {},
   "outputs": [
    {
     "name": "stdout",
     "output_type": "stream",
     "text": [
      "20 %\n",
      "40 %\n",
      "60 %\n",
      "80 %\n",
      "90 %\n",
      "--- 1867.6943242549896 seconds ---\n"
     ]
    }
   ],
   "source": [
    "start_time = time.time()\n",
    "\n",
    "city = []\n",
    "brand = []\n",
    "model = []\n",
    "year = []\n",
    "body = []\n",
    "color = []\n",
    "engine = []\n",
    "engine_power = []\n",
    "fuel_type = []\n",
    "mileage = []\n",
    "gearbox = []\n",
    "transmission = []\n",
    "being_new = []\n",
    "price = []\n",
    "\n",
    "for link in part4:\n",
    "    request = requests.get(link)\n",
    "    soup = bs(request.content, 'html.parser')\n",
    "    \n",
    "    if link == part4[500]:\n",
    "        print('20 %')\n",
    "    elif link == part4[1000]:\n",
    "        print('40 %')\n",
    "    elif link == part4[1500]:\n",
    "        print('60 %')\n",
    "    elif link == part4[2000]:\n",
    "        print('80 %')\n",
    "    elif link == part4[2250]:\n",
    "        print('90 %')\n",
    "        \n",
    "    properties = soup.find_all('li',{'class':'product-properties-i'})\n",
    "    \n",
    "    # city\n",
    "    try:\n",
    "        city.append(properties[0].find('div').string)\n",
    "    except:\n",
    "        city.append(np.nan)\n",
    "    \n",
    "    # brand\n",
    "    try:\n",
    "        brand.append(properties[1].find('a').string)\n",
    "    except:\n",
    "        brand.append(np.nan)\n",
    "    \n",
    "    # model\n",
    "    try:\n",
    "        model.append(properties[2].find('a').string)\n",
    "    except:\n",
    "        model.append(np.nan)\n",
    "    \n",
    "    # year\n",
    "    try:\n",
    "        year.append(properties[3].find('a').string)\n",
    "    except:\n",
    "        year.append(np.nan)\n",
    "    \n",
    "    # body\n",
    "    try:\n",
    "        body.append(properties[4].find('div').string)\n",
    "    except:\n",
    "        body.append(np.nan)\n",
    "    \n",
    "    # color\n",
    "    try:\n",
    "        color.append(properties[5].find('div').string)\n",
    "    except:\n",
    "        color.append(np.nan)\n",
    "    \n",
    "    # engine\n",
    "    try:\n",
    "        engine.append(properties[6].find('div').string)\n",
    "    except:\n",
    "        engine.append(np.nan)\n",
    "    \n",
    "    # engine power\n",
    "    try:\n",
    "        engine_power.append(properties[7].find('div').string)\n",
    "    except:\n",
    "        engine_power.append(np.nan)\n",
    "        \n",
    "    # fuel type\n",
    "    try:\n",
    "        fuel_type.append(properties[8].find('div').string)\n",
    "    except:\n",
    "        fuel_type.append(np.nan)\n",
    "    \n",
    "    # mileage\n",
    "    try:\n",
    "        mileage.append(properties[9].find('div').string)\n",
    "    except:\n",
    "        mileage.append(np.nan)\n",
    "    \n",
    "    # gearbox\n",
    "    try:\n",
    "        gearbox.append(properties[10].find('div').string)\n",
    "    except:\n",
    "        gearbox.append(np.nan)\n",
    "        \n",
    "    # transmission\n",
    "    try:\n",
    "        transmission.append(properties[11].find('div').string)\n",
    "    except:\n",
    "        transmission.append(np.nan)\n",
    "    \n",
    "    # being new\n",
    "    try:\n",
    "        being_new.append(properties[12].find('div').string)\n",
    "    except:\n",
    "        being_new.append(np.nan)\n",
    "        \n",
    "    # price\n",
    "    try:\n",
    "        price.append(properties[13].find(class_='product-properties-value').find(class_='product-price').text.strip(' AZN $'))\n",
    "    except:\n",
    "        price.append(np.nan)\n",
    "    \n",
    "    \n",
    "    \n",
    "webbrowser.open(\"Sweat Dreams.mp3\")  \n",
    "finish_time = time.time()\n",
    "print(\"--- %s seconds ---\" % (finish_time - start_time))"
   ]
  },
  {
   "cell_type": "code",
   "execution_count": 15,
   "id": "96d04cc6",
   "metadata": {},
   "outputs": [],
   "source": [
    "df = pd.DataFrame({'City':city, 'Brand':brand, 'Model':model,\\\n",
    "                   'Year':year, 'Body':body, 'Color':color,\\\n",
    "                   'Engine':engine, 'Engine Power':engine_power, 'Fuel Type':fuel_type,\\\n",
    "                   'Mileage':mileage, 'Gearbox':gearbox, 'Transmission':transmission,\\\n",
    "                   'Being new':being_new, 'Price':price})"
   ]
  },
  {
   "cell_type": "code",
   "execution_count": 16,
   "id": "702cc9ca",
   "metadata": {},
   "outputs": [
    {
     "data": {
      "text/html": [
       "<div>\n",
       "<style scoped>\n",
       "    .dataframe tbody tr th:only-of-type {\n",
       "        vertical-align: middle;\n",
       "    }\n",
       "\n",
       "    .dataframe tbody tr th {\n",
       "        vertical-align: top;\n",
       "    }\n",
       "\n",
       "    .dataframe thead th {\n",
       "        text-align: right;\n",
       "    }\n",
       "</style>\n",
       "<table border=\"1\" class=\"dataframe\">\n",
       "  <thead>\n",
       "    <tr style=\"text-align: right;\">\n",
       "      <th></th>\n",
       "      <th>City</th>\n",
       "      <th>Brand</th>\n",
       "      <th>Model</th>\n",
       "      <th>Year</th>\n",
       "      <th>Body</th>\n",
       "      <th>Color</th>\n",
       "      <th>Engine</th>\n",
       "      <th>Engine Power</th>\n",
       "      <th>Fuel Type</th>\n",
       "      <th>Mileage</th>\n",
       "      <th>Gearbox</th>\n",
       "      <th>Transmission</th>\n",
       "      <th>Being new</th>\n",
       "      <th>Price</th>\n",
       "    </tr>\n",
       "  </thead>\n",
       "  <tbody>\n",
       "    <tr>\n",
       "      <th>0</th>\n",
       "      <td>Bakı</td>\n",
       "      <td>Nissan</td>\n",
       "      <td>Juke</td>\n",
       "      <td>2011</td>\n",
       "      <td>Offroader / SUV</td>\n",
       "      <td>Ağ</td>\n",
       "      <td>1.6 L</td>\n",
       "      <td>120 a.g.</td>\n",
       "      <td>Benzin</td>\n",
       "      <td>120 000 km</td>\n",
       "      <td>Avtomat</td>\n",
       "      <td>Tam</td>\n",
       "      <td>Xeyr</td>\n",
       "      <td>19 500</td>\n",
       "    </tr>\n",
       "    <tr>\n",
       "      <th>1</th>\n",
       "      <td>Bakı</td>\n",
       "      <td>LADA (VAZ)</td>\n",
       "      <td>2107</td>\n",
       "      <td>2005</td>\n",
       "      <td>Sedan</td>\n",
       "      <td>Ağ</td>\n",
       "      <td>1.6 L</td>\n",
       "      <td>75 a.g.</td>\n",
       "      <td>Benzin</td>\n",
       "      <td>80 000 km</td>\n",
       "      <td>Mexaniki</td>\n",
       "      <td>Arxa</td>\n",
       "      <td>Xeyr</td>\n",
       "      <td>5 200</td>\n",
       "    </tr>\n",
       "    <tr>\n",
       "      <th>2</th>\n",
       "      <td>Bakı</td>\n",
       "      <td>Toyota</td>\n",
       "      <td>Prius</td>\n",
       "      <td>2006</td>\n",
       "      <td>Hetçbek / Liftbek</td>\n",
       "      <td>Qırmızı</td>\n",
       "      <td>1.5 L</td>\n",
       "      <td>76 a.g.</td>\n",
       "      <td>Hibrid</td>\n",
       "      <td>147 000 km</td>\n",
       "      <td>Avtomat</td>\n",
       "      <td>Ön</td>\n",
       "      <td>Xeyr</td>\n",
       "      <td>12 800</td>\n",
       "    </tr>\n",
       "    <tr>\n",
       "      <th>3</th>\n",
       "      <td>Bakı</td>\n",
       "      <td>Toyota</td>\n",
       "      <td>Corolla</td>\n",
       "      <td>2005</td>\n",
       "      <td>Hetçbek / Liftbek</td>\n",
       "      <td>Bej</td>\n",
       "      <td>1.4 L</td>\n",
       "      <td>90 a.g.</td>\n",
       "      <td>Dizel</td>\n",
       "      <td>234 650 km</td>\n",
       "      <td>Mexaniki</td>\n",
       "      <td>Tam</td>\n",
       "      <td>Xeyr</td>\n",
       "      <td>12 000</td>\n",
       "    </tr>\n",
       "    <tr>\n",
       "      <th>4</th>\n",
       "      <td>Bakı</td>\n",
       "      <td>Opel</td>\n",
       "      <td>Astra</td>\n",
       "      <td>2005</td>\n",
       "      <td>Hetçbek / Liftbek</td>\n",
       "      <td>Göy</td>\n",
       "      <td>1.4 L</td>\n",
       "      <td>90 a.g.</td>\n",
       "      <td>Benzin</td>\n",
       "      <td>200 000 km</td>\n",
       "      <td>Avtomat</td>\n",
       "      <td>Ön</td>\n",
       "      <td>Xeyr</td>\n",
       "      <td>10 800</td>\n",
       "    </tr>\n",
       "    <tr>\n",
       "      <th>...</th>\n",
       "      <td>...</td>\n",
       "      <td>...</td>\n",
       "      <td>...</td>\n",
       "      <td>...</td>\n",
       "      <td>...</td>\n",
       "      <td>...</td>\n",
       "      <td>...</td>\n",
       "      <td>...</td>\n",
       "      <td>...</td>\n",
       "      <td>...</td>\n",
       "      <td>...</td>\n",
       "      <td>...</td>\n",
       "      <td>...</td>\n",
       "      <td>...</td>\n",
       "    </tr>\n",
       "    <tr>\n",
       "      <th>3041</th>\n",
       "      <td>Bakı</td>\n",
       "      <td>Toyota</td>\n",
       "      <td>Corolla</td>\n",
       "      <td>2006</td>\n",
       "      <td>Hetçbek / Liftbek</td>\n",
       "      <td>Gümüşü</td>\n",
       "      <td>1.4 L</td>\n",
       "      <td>90 a.g.</td>\n",
       "      <td>Dizel</td>\n",
       "      <td>196 002 km</td>\n",
       "      <td>Mexaniki</td>\n",
       "      <td>Ön</td>\n",
       "      <td>Xeyr</td>\n",
       "      <td>13 200</td>\n",
       "    </tr>\n",
       "    <tr>\n",
       "      <th>3042</th>\n",
       "      <td>Bakı</td>\n",
       "      <td>Nissan</td>\n",
       "      <td>Xterra</td>\n",
       "      <td>2022</td>\n",
       "      <td>Offroader / SUV</td>\n",
       "      <td>Boz</td>\n",
       "      <td>2.5 L</td>\n",
       "      <td>190 a.g.</td>\n",
       "      <td>Benzin</td>\n",
       "      <td>0 km</td>\n",
       "      <td>Avtomat</td>\n",
       "      <td>Tam</td>\n",
       "      <td>Bəli</td>\n",
       "      <td>48 800</td>\n",
       "    </tr>\n",
       "    <tr>\n",
       "      <th>3043</th>\n",
       "      <td>Bakı</td>\n",
       "      <td>Toyota</td>\n",
       "      <td>Prado</td>\n",
       "      <td>2008</td>\n",
       "      <td>Offroader / SUV</td>\n",
       "      <td>Ağ</td>\n",
       "      <td>2.7 L</td>\n",
       "      <td>163 a.g.</td>\n",
       "      <td>Benzin</td>\n",
       "      <td>210 000 km</td>\n",
       "      <td>Avtomat</td>\n",
       "      <td>Tam</td>\n",
       "      <td>Xeyr</td>\n",
       "      <td>32 000</td>\n",
       "    </tr>\n",
       "    <tr>\n",
       "      <th>3044</th>\n",
       "      <td>Bakı</td>\n",
       "      <td>Mercedes</td>\n",
       "      <td>C 300</td>\n",
       "      <td>2016</td>\n",
       "      <td>Sedan</td>\n",
       "      <td>Gümüşü</td>\n",
       "      <td>2.0 L</td>\n",
       "      <td>245 a.g.</td>\n",
       "      <td>Benzin</td>\n",
       "      <td>99 000 km</td>\n",
       "      <td>Avtomat</td>\n",
       "      <td>Arxa</td>\n",
       "      <td>Xeyr</td>\n",
       "      <td>23 900</td>\n",
       "    </tr>\n",
       "    <tr>\n",
       "      <th>3045</th>\n",
       "      <td>Bakı</td>\n",
       "      <td>GAZ</td>\n",
       "      <td>Vector Next</td>\n",
       "      <td>2021</td>\n",
       "      <td>Avtobus</td>\n",
       "      <td>Göy</td>\n",
       "      <td>4.4 L</td>\n",
       "      <td>170 a.g.</td>\n",
       "      <td>Dizel</td>\n",
       "      <td>0 km</td>\n",
       "      <td>Mexaniki</td>\n",
       "      <td>Arxa</td>\n",
       "      <td>Bəli</td>\n",
       "      <td>98 000</td>\n",
       "    </tr>\n",
       "  </tbody>\n",
       "</table>\n",
       "<p>3046 rows × 14 columns</p>\n",
       "</div>"
      ],
      "text/plain": [
       "      City       Brand        Model  Year               Body    Color Engine  \\\n",
       "0     Bakı      Nissan         Juke  2011    Offroader / SUV       Ağ  1.6 L   \n",
       "1     Bakı  LADA (VAZ)         2107  2005              Sedan       Ağ  1.6 L   \n",
       "2     Bakı      Toyota        Prius  2006  Hetçbek / Liftbek  Qırmızı  1.5 L   \n",
       "3     Bakı      Toyota      Corolla  2005  Hetçbek / Liftbek      Bej  1.4 L   \n",
       "4     Bakı        Opel        Astra  2005  Hetçbek / Liftbek      Göy  1.4 L   \n",
       "...    ...         ...          ...   ...                ...      ...    ...   \n",
       "3041  Bakı      Toyota      Corolla  2006  Hetçbek / Liftbek   Gümüşü  1.4 L   \n",
       "3042  Bakı      Nissan       Xterra  2022    Offroader / SUV      Boz  2.5 L   \n",
       "3043  Bakı      Toyota        Prado  2008    Offroader / SUV       Ağ  2.7 L   \n",
       "3044  Bakı    Mercedes        C 300  2016              Sedan   Gümüşü  2.0 L   \n",
       "3045  Bakı         GAZ  Vector Next  2021            Avtobus      Göy  4.4 L   \n",
       "\n",
       "     Engine Power Fuel Type     Mileage   Gearbox Transmission Being new  \\\n",
       "0        120 a.g.    Benzin  120 000 km   Avtomat          Tam      Xeyr   \n",
       "1         75 a.g.    Benzin   80 000 km  Mexaniki         Arxa      Xeyr   \n",
       "2         76 a.g.    Hibrid  147 000 km   Avtomat           Ön      Xeyr   \n",
       "3         90 a.g.     Dizel  234 650 km  Mexaniki          Tam      Xeyr   \n",
       "4         90 a.g.    Benzin  200 000 km   Avtomat           Ön      Xeyr   \n",
       "...           ...       ...         ...       ...          ...       ...   \n",
       "3041      90 a.g.     Dizel  196 002 km  Mexaniki           Ön      Xeyr   \n",
       "3042     190 a.g.    Benzin        0 km   Avtomat          Tam      Bəli   \n",
       "3043     163 a.g.    Benzin  210 000 km   Avtomat          Tam      Xeyr   \n",
       "3044     245 a.g.    Benzin   99 000 km   Avtomat         Arxa      Xeyr   \n",
       "3045     170 a.g.     Dizel        0 km  Mexaniki         Arxa      Bəli   \n",
       "\n",
       "       Price  \n",
       "0     19 500  \n",
       "1      5 200  \n",
       "2     12 800  \n",
       "3     12 000  \n",
       "4     10 800  \n",
       "...      ...  \n",
       "3041  13 200  \n",
       "3042  48 800  \n",
       "3043  32 000  \n",
       "3044  23 900  \n",
       "3045  98 000  \n",
       "\n",
       "[3046 rows x 14 columns]"
      ]
     },
     "execution_count": 16,
     "metadata": {},
     "output_type": "execute_result"
    }
   ],
   "source": [
    "df"
   ]
  },
  {
   "cell_type": "code",
   "execution_count": 36,
   "id": "82cbc9cd",
   "metadata": {},
   "outputs": [],
   "source": [
    "df.to_csv('Turbo_az_part4.csv', index = False)"
   ]
  }
 ],
 "metadata": {
  "kernelspec": {
   "display_name": "Python 3 (ipykernel)",
   "language": "python",
   "name": "python3"
  },
  "language_info": {
   "codemirror_mode": {
    "name": "ipython",
    "version": 3
   },
   "file_extension": ".py",
   "mimetype": "text/x-python",
   "name": "python",
   "nbconvert_exporter": "python",
   "pygments_lexer": "ipython3",
   "version": "3.10.7"
  }
 },
 "nbformat": 4,
 "nbformat_minor": 5
}
